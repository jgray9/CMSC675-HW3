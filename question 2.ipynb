{
 "cells": [
  {
   "cell_type": "code",
   "execution_count": 1,
   "metadata": {},
   "outputs": [],
   "source": [
    "import torch, torchattacks\n",
    "from torchvision import datasets, transforms"
   ]
  },
  {
   "cell_type": "markdown",
   "metadata": {},
   "source": [
    "Step 1: Load three different pretrained models from PyTorch. There are several pretrained models available."
   ]
  },
  {
   "cell_type": "code",
   "execution_count": 2,
   "metadata": {},
   "outputs": [
    {
     "name": "stderr",
     "output_type": "stream",
     "text": [
      "Using cache found in models/pytorch_vision_main\n",
      "Using cache found in models/pytorch_vision_main\n",
      "Using cache found in models/pytorch_vision_main\n"
     ]
    }
   ],
   "source": [
    "torch.hub.set_dir(\"models\")\n",
    "resnet50 = torch.hub.load(\"pytorch/vision\", model=\"resnet50\", weights=\"ResNet50_Weights.IMAGENET1K_V1\")\n",
    "alexnet  = torch.hub.load(\"pytorch/vision\", model=\"alexnet\",  weights=\"AlexNet_Weights.IMAGENET1K_V1\")\n",
    "squeeze      = torch.hub.load(\"pytorch/vision\", model=\"squeezenet1_1\", weights=\"SqueezeNet1_1_Weights.IMAGENET1K_V1\")\n",
    "model_names = ['resnet50','alexnet','squeeze']"
   ]
  },
  {
   "cell_type": "markdown",
   "metadata": {},
   "source": [
    "Step 2: In class we discussed a few adversarial attack techniques such as PGD, FGSM, etc.\n",
    "\n",
    "torchattacks is a framework which lets you attack any model with many such adversarial attack techniques. Install torchattacks and then use it to attack your loaded model with 3 different attack techniques."
   ]
  },
  {
   "cell_type": "code",
   "execution_count": 3,
   "metadata": {},
   "outputs": [],
   "source": [
    "# https://docs.pytorch.org/vision/main/generated/torchvision.datasets.ImageNet.html\n",
    "# https://image-net.org/challenges/LSVRC/2012/2012-downloads.php\n",
    "NUM_IMAGES = 100\n",
    "dataset = datasets.ImageNet(root = \"data\", split = 'val', transform = transforms.Compose([\n",
    "    transforms.Resize(size=256),\n",
    "    transforms.CenterCrop(size=224),\n",
    "    transforms.ToTensor(),\n",
    "    transforms.Normalize(mean=[0.485, 0.456, 0.406], std=[0.229, 0.224, 0.225])\n",
    "]))\n",
    "limited_dataset = []\n",
    "for i in range(NUM_IMAGES): limited_dataset.append(dataset[i])\n",
    "dataloader = torch.utils.data.DataLoader(limited_dataset, batch_size=1, shuffle=False)"
   ]
  },
  {
   "cell_type": "code",
   "execution_count": 4,
   "metadata": {},
   "outputs": [],
   "source": [
    "# https://adversarial-attacks-pytorch.readthedocs.io/en/latest/index.html\n",
    "# https://github.com/Harry24k/adversarial-attacks-pytorch\n",
    "def get_adv_images(attk: torchattacks.AutoAttack, target_label: int) -> list[torch.Tensor]:\n",
    "    X_ADV = []\n",
    "    y_target = torch.tensor([target_label]).cuda()\n",
    "\n",
    "    attk.set_normalization_used(mean=[0.485, 0.456, 0.406], std=[0.229, 0.224, 0.225])\n",
    "    attk.set_mode_targeted_by_label(quiet=True)\n",
    "\n",
    "    for x, y in dataloader:\n",
    "        x = x.cuda()\n",
    "        x_adv = attk(x, y_target)\n",
    "        X_ADV.append(x_adv)\n",
    "    return X_ADV\n",
    "\n",
    "adv_images = {}\n",
    "\n",
    "for model_idx, model in enumerate([resnet50, alexnet, squeeze]):\n",
    "    adv_images[model_idx] = [[],[],[]]\n",
    "    model = model.cuda()\n",
    "    model.eval()\n",
    "\n",
    "    attk_PGD  = torchattacks.PGD (model, eps=8/255, alpha=1/255, steps=10, random_start=True)\n",
    "    attk_FGSM = torchattacks.FGSM(model, eps=8/255)\n",
    "    attk_CW   = torchattacks.CW  (model, c=1, kappa=0, steps=50, lr=0.01)\n",
    "\n",
    "    for attk_idx, attk in enumerate([attk_PGD, attk_FGSM, attk_CW]):\n",
    "        adv_images[model_idx][attk_idx] = get_adv_images(attk, 579)"
   ]
  },
  {
   "cell_type": "markdown",
   "metadata": {},
   "source": [
    "Step 3: Report accuracy in a 3×3 table (3 rows for models and 3 columns for attack techniques)"
   ]
  },
  {
   "cell_type": "code",
   "execution_count": 5,
   "metadata": {},
   "outputs": [
    {
     "name": "stdout",
     "output_type": "stream",
     "text": [
      "             PGD       FGSM       CW    \n",
      "resnet50      0%       30%       42%    \n",
      "alexnet       0%        5%       32%    \n",
      "squeeze       0%        0%        1%    \n"
     ]
    }
   ],
   "source": [
    "print(f\"{'':^10}{'PGD':^10}{'FGSM':^10}{'CW':^10}\")\n",
    "\n",
    "with torch.no_grad():\n",
    "    for model_idx, model in enumerate([resnet50, alexnet, squeeze]):\n",
    "        print(f\"{model_names[model_idx]:<10}\",end='')\n",
    "        for attk_idx in range(3):\n",
    "            num_correct = 0.0\n",
    "            for image_idx, (images, label) in enumerate(dataloader):\n",
    "                pred_label = model( adv_images[model_idx][attk_idx][image_idx] ).argmax(dim=1)\n",
    "                num_correct += (pred_label == label.cuda()).item()\n",
    "\n",
    "                # print(f\"{model(img.cuda()).max(dim=1)[1].item():^10}\", end='')\n",
    "            accuracy = f\"{100*(num_correct/len(dataloader)):.0f}%\"\n",
    "            print(f\"{accuracy:^10}\", end='')\n",
    "        print()"
   ]
  },
  {
   "cell_type": "markdown",
   "metadata": {},
   "source": [
    "Step 4: Choose any image of your choice and show the corresponding adversarial images generated by each attack technique from Step 2. \n",
    "\n",
    "For each adversarial image, report the average mean-squared error between the original image and the adversariaal image."
   ]
  }
 ],
 "metadata": {
  "kernelspec": {
   "display_name": ".venv",
   "language": "python",
   "name": "python3"
  },
  "language_info": {
   "codemirror_mode": {
    "name": "ipython",
    "version": 3
   },
   "file_extension": ".py",
   "mimetype": "text/x-python",
   "name": "python",
   "nbconvert_exporter": "python",
   "pygments_lexer": "ipython3",
   "version": "3.12.3"
  }
 },
 "nbformat": 4,
 "nbformat_minor": 2
}
